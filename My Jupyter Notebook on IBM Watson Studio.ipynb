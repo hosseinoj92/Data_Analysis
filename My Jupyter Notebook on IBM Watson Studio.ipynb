{
 "cells": [
  {
   "cell_type": "markdown",
   "id": "9e91befa-a68d-461c-b153-26a32a55584e",
   "metadata": {},
   "source": [
    "# My Jupyter Notebook on IBM Watson Studio"
   ]
  },
  {
   "cell_type": "markdown",
   "id": "3cef855b-338c-40e9-bcc5-85b5791f6a73",
   "metadata": {},
   "source": [
    "**Hossein Ostovar** <br> PhD Student in Physics"
   ]
  },
  {
   "cell_type": "markdown",
   "id": "215d0611-f8bc-4d6d-a8ad-f355af2446bf",
   "metadata": {},
   "source": [
    "_I find data science fascinating, because nowadays extracting meaning from  huge datasets is not only crucial but also can make significant changes in any industry or branch of science. As a physicist I am trained to do so on a regular basis and I would like to continue that as an occupation_"
   ]
  },
  {
   "cell_type": "markdown",
   "id": "52ef7f73-0595-4a9f-a4c2-a63e525fddf7",
   "metadata": {},
   "source": [
    "### The followinf scripts tells you \"Happy Valentine's Day!\" five times!"
   ]
  },
  {
   "cell_type": "code",
   "execution_count": 9,
   "id": "0ab703f3-e7bb-4849-9184-dceb998903df",
   "metadata": {},
   "outputs": [
    {
     "name": "stdout",
     "output_type": "stream",
     "text": [
      "Happy Valentine's Day!\n",
      "Happy Valentine's Day!\n",
      "Happy Valentine's Day!\n",
      "Happy Valentine's Day!\n",
      "Happy Valentine's Day!\n"
     ]
    }
   ],
   "source": [
    "for i in range(1, 6):\n",
    "\n",
    "    print(\"Happy Valentine's Day!\")"
   ]
  },
  {
   "cell_type": "code",
   "execution_count": null,
   "id": "b38d8473-3fd1-475f-958a-6045c50d146c",
   "metadata": {},
   "outputs": [],
   "source": []
  }
 ],
 "metadata": {
  "kernelspec": {
   "display_name": "Python 3 (ipykernel)",
   "language": "python",
   "name": "python3"
  },
  "language_info": {
   "codemirror_mode": {
    "name": "ipython",
    "version": 3
   },
   "file_extension": ".py",
   "mimetype": "text/x-python",
   "name": "python",
   "nbconvert_exporter": "python",
   "pygments_lexer": "ipython3",
   "version": "3.9.12"
  }
 },
 "nbformat": 4,
 "nbformat_minor": 5
}
